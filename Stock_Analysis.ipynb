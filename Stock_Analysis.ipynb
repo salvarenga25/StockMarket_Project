{
 "cells": [
  {
   "cell_type": "code",
   "execution_count": 1,
   "id": "a5c78f39",
   "metadata": {},
   "outputs": [],
   "source": [
    "# Dependencies and Setup\n",
    "import pandas as pd\n",
    "from pathlib import Path\n",
    "import scipy.stats as st\n",
    "import matplotlib.pyplot as plt"
   ]
  },
  {
   "cell_type": "code",
   "execution_count": 2,
   "id": "d7effb24",
   "metadata": {},
   "outputs": [],
   "source": [
    "# File to Load (Remember to Change These)\n",
    "AAPL_ticker = Path(\"Stock_data/AAPL.csv\")\n",
    "AAPL_stock = pd.read_csv(AAPL_ticker)\n",
    "AAPL_stock[\"Ticker\"]= \"AAPL\"\n",
    "\n",
    "AMZN_ticker = Path(\"Stock_data/AMZN.csv\")\n",
    "AMZN_stock = pd.read_csv(AMZN_ticker)\n",
    "AMZN_stock[\"Ticker\"]= \"AMZN\"\n",
    "\n",
    "CSCO_ticker = Path(\"Stock_data/CSCO.csv\")\n",
    "CSCO_stock = pd.read_csv(CSCO_ticker)\n",
    "CSCO_stock[\"Ticker\"]= \"CSCO\"\n",
    "\n",
    "\n",
    "EBAY_ticker = Path(\"Stock_data/EBAY.csv\")\n",
    "EBAY_stock = pd.read_csv(EBAY_ticker)\n",
    "EBAY_stock[\"Ticker\"]= \"EBAY\"\n",
    "\n",
    "GOOG_ticker = Path(\"Stock_data/GOOG.csv\")\n",
    "GOOG_stock = pd.read_csv(GOOG_ticker)\n",
    "GOOG_stock[\"Ticker\"]= \"GOOG\"\n",
    "\n",
    "IBM_ticker = Path(\"Stock_data/IBM.csv\")\n",
    "IBM_stock = pd.read_csv(IBM_ticker)\n",
    "IBM_stock[\"Ticker\"]= \"IBM\"\n",
    "\n",
    "MSFT_ticker = Path(\"Stock_data/MSFT.csv\")\n",
    "MSFT_stock = pd.read_csv(MSFT_ticker)\n",
    "MSFT_stock[\"Ticker\"]= \"MSFT\"\n",
    "\n",
    "NVDA_ticker = Path(\"Stock_data/NVDA.csv\")\n",
    "NVDA_stock = pd.read_csv(NVDA_ticker)\n",
    "NVDA_stock[\"Ticker\"]= \"NVDA\"\n",
    "\n",
    "T_ticker = Path(\"Stock_data/T.csv\")\n",
    "T_stock = pd.read_csv(T_ticker)\n",
    "T_stock[\"Ticker\"]= \"T\"\n",
    "\n",
    "\n",
    "TSLA_ticker = Path(\"Stock_data/TSLA.csv\")\n",
    "TSLA_stock = pd.read_csv(TSLA_ticker)\n",
    "TSLA_stock[\"Ticker\"]= \"TSLA\"\n",
    "\n",
    "# student_data= Path(\"Resources/students_complete.csv\")"
   ]
  },
  {
   "cell_type": "code",
   "execution_count": 8,
   "id": "884bffd0",
   "metadata": {},
   "outputs": [],
   "source": [
    "#Combining all the Ticker data into a single DataFrame\n",
    "stock_combined_df = pd.concat([AAPL_stock,AMZN_stock,CSCO_stock,EBAY_stock,GOOG_stock,IBM_stock,MSFT_stock,NVDA_stock,T_stock,TSLA_stock],ignore_index=True)"
   ]
  },
  {
   "cell_type": "code",
   "execution_count": 9,
   "id": "d9e158af",
   "metadata": {},
   "outputs": [
    {
     "data": {
      "text/html": [
       "<div>\n",
       "<style scoped>\n",
       "    .dataframe tbody tr th:only-of-type {\n",
       "        vertical-align: middle;\n",
       "    }\n",
       "\n",
       "    .dataframe tbody tr th {\n",
       "        vertical-align: top;\n",
       "    }\n",
       "\n",
       "    .dataframe thead th {\n",
       "        text-align: right;\n",
       "    }\n",
       "</style>\n",
       "<table border=\"1\" class=\"dataframe\">\n",
       "  <thead>\n",
       "    <tr style=\"text-align: right;\">\n",
       "      <th></th>\n",
       "      <th>Date</th>\n",
       "      <th>Low</th>\n",
       "      <th>Open</th>\n",
       "      <th>Volume</th>\n",
       "      <th>High</th>\n",
       "      <th>Close</th>\n",
       "      <th>Adjusted Close</th>\n",
       "      <th>Ticker</th>\n",
       "    </tr>\n",
       "  </thead>\n",
       "  <tbody>\n",
       "    <tr>\n",
       "      <th>77615</th>\n",
       "      <td>06-12-2022</td>\n",
       "      <td>175.330002</td>\n",
       "      <td>181.220001</td>\n",
       "      <td>92150800</td>\n",
       "      <td>183.649994</td>\n",
       "      <td>179.820007</td>\n",
       "      <td>179.820007</td>\n",
       "      <td>TSLA</td>\n",
       "    </tr>\n",
       "    <tr>\n",
       "      <th>77616</th>\n",
       "      <td>07-12-2022</td>\n",
       "      <td>172.220001</td>\n",
       "      <td>175.029999</td>\n",
       "      <td>84213300</td>\n",
       "      <td>179.380005</td>\n",
       "      <td>174.039993</td>\n",
       "      <td>174.039993</td>\n",
       "      <td>TSLA</td>\n",
       "    </tr>\n",
       "    <tr>\n",
       "      <th>77617</th>\n",
       "      <td>08-12-2022</td>\n",
       "      <td>169.059998</td>\n",
       "      <td>172.199997</td>\n",
       "      <td>97624500</td>\n",
       "      <td>175.199997</td>\n",
       "      <td>173.440002</td>\n",
       "      <td>173.440002</td>\n",
       "      <td>TSLA</td>\n",
       "    </tr>\n",
       "    <tr>\n",
       "      <th>77618</th>\n",
       "      <td>09-12-2022</td>\n",
       "      <td>173.360001</td>\n",
       "      <td>173.839996</td>\n",
       "      <td>104746600</td>\n",
       "      <td>182.500000</td>\n",
       "      <td>179.050003</td>\n",
       "      <td>179.050003</td>\n",
       "      <td>TSLA</td>\n",
       "    </tr>\n",
       "    <tr>\n",
       "      <th>77619</th>\n",
       "      <td>12-12-2022</td>\n",
       "      <td>170.389999</td>\n",
       "      <td>176.100006</td>\n",
       "      <td>36780366</td>\n",
       "      <td>177.359894</td>\n",
       "      <td>172.190002</td>\n",
       "      <td>172.190002</td>\n",
       "      <td>TSLA</td>\n",
       "    </tr>\n",
       "  </tbody>\n",
       "</table>\n",
       "</div>"
      ],
      "text/plain": [
       "             Date         Low        Open     Volume        High       Close  \\\n",
       "77615  06-12-2022  175.330002  181.220001   92150800  183.649994  179.820007   \n",
       "77616  07-12-2022  172.220001  175.029999   84213300  179.380005  174.039993   \n",
       "77617  08-12-2022  169.059998  172.199997   97624500  175.199997  173.440002   \n",
       "77618  09-12-2022  173.360001  173.839996  104746600  182.500000  179.050003   \n",
       "77619  12-12-2022  170.389999  176.100006   36780366  177.359894  172.190002   \n",
       "\n",
       "       Adjusted Close Ticker  \n",
       "77615      179.820007   TSLA  \n",
       "77616      174.039993   TSLA  \n",
       "77617      173.440002   TSLA  \n",
       "77618      179.050003   TSLA  \n",
       "77619      172.190002   TSLA  "
      ]
     },
     "execution_count": 9,
     "metadata": {},
     "output_type": "execute_result"
    }
   ],
   "source": [
    "stock_combined_df.tail()"
   ]
  },
  {
   "cell_type": "code",
   "execution_count": 10,
   "id": "7a5d6a4b",
   "metadata": {},
   "outputs": [
    {
     "data": {
      "text/plain": [
       "Date              0\n",
       "Low               0\n",
       "Open              0\n",
       "Volume            0\n",
       "High              0\n",
       "Close             0\n",
       "Adjusted Close    0\n",
       "Ticker            0\n",
       "dtype: int64"
      ]
     },
     "execution_count": 10,
     "metadata": {},
     "output_type": "execute_result"
    }
   ],
   "source": [
    "#Checking for NAs\n",
    "stock_combined_df.isna().sum()"
   ]
  },
  {
   "cell_type": "code",
   "execution_count": null,
   "id": "8dca5f54",
   "metadata": {},
   "outputs": [],
   "source": []
  }
 ],
 "metadata": {
  "kernelspec": {
   "display_name": "Python 3 (ipykernel)",
   "language": "python",
   "name": "python3"
  },
  "language_info": {
   "codemirror_mode": {
    "name": "ipython",
    "version": 3
   },
   "file_extension": ".py",
   "mimetype": "text/x-python",
   "name": "python",
   "nbconvert_exporter": "python",
   "pygments_lexer": "ipython3",
   "version": "3.11.4"
  }
 },
 "nbformat": 4,
 "nbformat_minor": 5
}
